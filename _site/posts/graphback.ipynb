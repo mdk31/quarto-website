{
  "cells": [
    {
      "cell_type": "raw",
      "metadata": {},
      "source": [
        "---\n",
        "title: \"Computational Graph Approach to Backpropagation\"\n",
        "draft: false\n",
        "---"
      ],
      "id": "1df532e3"
    },
    {
      "cell_type": "markdown",
      "metadata": {},
      "source": [
        "```{tikz, tikz-ex, fig.cap = \"Funky tikz\", fig.ext = 'png', cache=TRUE}\n",
        "\\usetikzlibrary{arrows}\n",
        "\\begin{tikzpicture}[node distance=2cm, auto,>=latex', thick, scale = 0.5]\n",
        "\\node (P) {$P$};\n",
        "\\node (B) [right of=P] {$B$};\n",
        "\\node (A) [below of=P] {$A$};\n",
        "\\node (C) [below of=B] {$C$};\n",
        "\\node (P1) [node distance=1.4cm, left of=P, above of=P] {$\\hat{P}$};\n",
        "\\draw[->] (P) to node {$f$} (B);\n",
        "\\draw[->] (P) to node [swap] {$g$} (A);\n",
        "\\draw[->] (A) to node [swap] {$f$} (C);\n",
        "\\draw[->] (B) to node {$g$} (C);\n",
        "\\draw[->, bend right] (P1) to node [swap] {$\\hat{g}$} (A);\n",
        "\\draw[->, bend left] (P1) to node {$\\hat{f}$} (B);\n",
        "\\draw[->, dashed] (P1) to node {$k$} (P);\n",
        "\\end{tikzpicture}\n",
        "```"
      ],
      "id": "2560ff01"
    }
  ],
  "metadata": {
    "kernelspec": {
      "display_name": "Python 3",
      "language": "python",
      "name": "python3"
    }
  },
  "nbformat": 4,
  "nbformat_minor": 5
}